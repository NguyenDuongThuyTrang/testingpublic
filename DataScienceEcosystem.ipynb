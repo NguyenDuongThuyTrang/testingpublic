{
  "nbformat": 4,
  "nbformat_minor": 0,
  "metadata": {
    "colab": {
      "provenance": [],
      "authorship_tag": "ABX9TyOfmUQNe+aUx/XoDEqurn3V",
      "include_colab_link": true
    },
    "kernelspec": {
      "name": "python3",
      "display_name": "Python 3"
    },
    "language_info": {
      "name": "python"
    }
  },
  "cells": [
    {
      "cell_type": "markdown",
      "metadata": {
        "id": "view-in-github",
        "colab_type": "text"
      },
      "source": [
        "<a href=\"https://colab.research.google.com/github/NguyenDuongThuyTrang/testingpublic/blob/main/DataScienceEcosystem.ipynb\" target=\"_parent\"><img src=\"https://colab.research.google.com/assets/colab-badge.svg\" alt=\"Open In Colab\"/></a>"
      ]
    },
    {
      "cell_type": "markdown",
      "source": [
        "# **Data Science Tools and Ecosystem**"
      ],
      "metadata": {
        "id": "0PZdFChaRa-x"
      }
    },
    {
      "cell_type": "markdown",
      "source": [
        "In this notebook, Data Science Tools and Ecosystem are summarized."
      ],
      "metadata": {
        "id": "97Nx1y9ORnXi"
      }
    },
    {
      "cell_type": "markdown",
      "source": [
        "Some of the popular languages that Data Scientists use are:\n",
        "\n",
        "1.  Python\n",
        "2.  R\n",
        "3. Java\n"
      ],
      "metadata": {
        "id": "5qNwsWmsRs28"
      }
    },
    {
      "cell_type": "markdown",
      "source": [
        "| Data Science Tools |\n",
        "----------------------\n",
        "| Python |\n",
        "| R |\n",
        "| Java |\n"
      ],
      "metadata": {
        "id": "0p4HAinn9N7-"
      }
    },
    {
      "cell_type": "markdown",
      "source": [
        "##Below are a few examples of evaluating arithmetic expressions in Python"
      ],
      "metadata": {
        "id": "Z8U9zeRBB0Sf"
      }
    },
    {
      "cell_type": "markdown",
      "source": [
        "This a simple arithmetic expression to mutiply then add integers"
      ],
      "metadata": {
        "id": "Cjnw1GuKB-Sd"
      }
    },
    {
      "cell_type": "code",
      "source": [
        "(3*4)+5"
      ],
      "metadata": {
        "colab": {
          "base_uri": "https://localhost:8080/"
        },
        "id": "3i7vqoAYCAQr",
        "outputId": "4c597b60-9cdf-4752-f41f-2fdca5c42147"
      },
      "execution_count": 1,
      "outputs": [
        {
          "output_type": "execute_result",
          "data": {
            "text/plain": [
              "17"
            ]
          },
          "metadata": {},
          "execution_count": 1
        }
      ]
    },
    {
      "cell_type": "markdown",
      "source": [
        "This will convert 200 minutes to hours by diving by 60"
      ],
      "metadata": {
        "id": "VXhQk4gdCMLD"
      }
    },
    {
      "cell_type": "code",
      "source": [
        "200/60"
      ],
      "metadata": {
        "colab": {
          "base_uri": "https://localhost:8080/"
        },
        "id": "gCTzsMmBCNJa",
        "outputId": "fd2ac399-c572-40f7-a110-e5fcd374278f"
      },
      "execution_count": 19,
      "outputs": [
        {
          "output_type": "execute_result",
          "data": {
            "text/plain": [
              "3.3333333333333335"
            ]
          },
          "metadata": {},
          "execution_count": 19
        }
      ]
    },
    {
      "cell_type": "markdown",
      "source": [
        "**Objectives:** List popular languages for Data Science"
      ],
      "metadata": {
        "id": "2wKv596rDzdn"
      }
    },
    {
      "cell_type": "markdown",
      "source": [
        "\n",
        "\n",
        "*   Python\n",
        "*C\n",
        "*Java\n",
        "*R"
      ],
      "metadata": {
        "id": "0OLd-QZUEAHy"
      }
    },
    {
      "cell_type": "markdown",
      "source": [
        "## Author\n",
        "TrangNDT"
      ],
      "metadata": {
        "id": "93RYYKEhENyI"
      }
    },
    {
      "cell_type": "code",
      "source": [],
      "metadata": {
        "id": "RGIa7ucvEQ6v"
      },
      "execution_count": null,
      "outputs": []
    }
  ]
}